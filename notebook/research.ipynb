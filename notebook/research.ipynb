{
 "cells": [
  {
   "cell_type": "code",
   "execution_count": null,
   "metadata": {},
   "outputs": [
    {
     "ename": "",
     "evalue": "",
     "output_type": "error",
     "traceback": [
      "\u001b[1;31mThe kernel failed to start due to the missing module 'pypdf'. Consider installing this module.\n",
      "\u001b[1;31mClick <a href='https://aka.ms/kernelFailuresMissingModule'>here</a> for more info.\n",
      "\u001b[1;31mSome of the following files found in the working directory may have prevented the Kernel from starting. Consider renaming them.\n",
      "\u001b[1;31mFile(s): <a href='file:///d%3A/RAG%28GenAI%29/Demo-app/medical-chatbot-using-phi3mini/notebook/code.py?line=1'>~\\code.py</a> might need to be renamed.\n",
      "\u001b[1;31mClick <a href='https://aka.ms/JupyterKernelStartFailureOverrideReservedName'>here</a> for more info."
     ]
    }
   ],
   "source": [
    "from langchain.embeddings import OllamaEmbeddings, HuggingFaceEmbeddings\n",
    "from langchain.chains import RetrievalQA\n",
    "from langchain.prompts import PromptTemplate\n",
    "from langchain.vectorstores import FAISS\n",
    "from langchain.text_splitter import RecursiveCharacterTextSplitter\n",
    "from langchain.document_loaders import PyPDFLoader, DirectoryLoader\n",
    "from langchain_community.llms import CTransformers, Ollama"
   ]
  },
  {
   "cell_type": "code",
   "execution_count": null,
   "metadata": {},
   "outputs": [
    {
     "ename": "",
     "evalue": "",
     "output_type": "error",
     "traceback": [
      "\u001b[1;31mThe kernel failed to start due to the missing module 'pypdf'. Consider installing this module.\n",
      "\u001b[1;31mClick <a href='https://aka.ms/kernelFailuresMissingModule'>here</a> for more info.\n",
      "\u001b[1;31mSome of the following files found in the working directory may have prevented the Kernel from starting. Consider renaming them.\n",
      "\u001b[1;31mFile(s): <a href='file:///d%3A/RAG%28GenAI%29/Demo-app/medical-chatbot-using-phi3mini/notebook/code.py?line=1'>~\\code.py</a> might need to be renamed.\n",
      "\u001b[1;31mClick <a href='https://aka.ms/JupyterKernelStartFailureOverrideReservedName'>here</a> for more info."
     ]
    }
   ],
   "source": [
    "##from dotenv import load_dotenv\n",
    "import os\n",
    "##load_dotenv()"
   ]
  },
  {
   "cell_type": "code",
   "execution_count": null,
   "metadata": {},
   "outputs": [
    {
     "ename": "",
     "evalue": "",
     "output_type": "error",
     "traceback": [
      "\u001b[1;31mThe kernel failed to start due to the missing module 'pypdf'. Consider installing this module.\n",
      "\u001b[1;31mClick <a href='https://aka.ms/kernelFailuresMissingModule'>here</a> for more info.\n",
      "\u001b[1;31mSome of the following files found in the working directory may have prevented the Kernel from starting. Consider renaming them.\n",
      "\u001b[1;31mFile(s): <a href='file:///d%3A/RAG%28GenAI%29/Demo-app/medical-chatbot-using-phi3mini/notebook/code.py?line=1'>~\\code.py</a> might need to be renamed.\n",
      "\u001b[1;31mClick <a href='https://aka.ms/JupyterKernelStartFailureOverrideReservedName'>here</a> for more info."
     ]
    }
   ],
   "source": [
    "LANGCHAIN_API_KEY = os.getenv(\"LANGCHAIN_API_KEY\")\n",
    "LANGCHAIN_PROJECT = os.getenv(\"LANGCHAIN_PROJECT\")"
   ]
  },
  {
   "cell_type": "code",
   "execution_count": null,
   "metadata": {},
   "outputs": [
    {
     "ename": "",
     "evalue": "",
     "output_type": "error",
     "traceback": [
      "\u001b[1;31mThe kernel failed to start due to the missing module 'pypdf'. Consider installing this module.\n",
      "\u001b[1;31mClick <a href='https://aka.ms/kernelFailuresMissingModule'>here</a> for more info.\n",
      "\u001b[1;31mSome of the following files found in the working directory may have prevented the Kernel from starting. Consider renaming them.\n",
      "\u001b[1;31mFile(s): <a href='file:///d%3A/RAG%28GenAI%29/Demo-app/medical-chatbot-using-phi3mini/notebook/code.py?line=1'>~\\code.py</a> might need to be renamed.\n",
      "\u001b[1;31mClick <a href='https://aka.ms/JupyterKernelStartFailureOverrideReservedName'>here</a> for more info."
     ]
    }
   ],
   "source": [
    "#DATA INGESTION\n",
    "def load_pdf(data):\n",
    "    loader = DirectoryLoader(data, glob='*.pdf', loader_cls=PyPDFLoader)\n",
    "    docs = loader.load()\n",
    "    return docs"
   ]
  },
  {
   "cell_type": "code",
   "execution_count": null,
   "metadata": {},
   "outputs": [
    {
     "ename": "",
     "evalue": "",
     "output_type": "error",
     "traceback": [
      "\u001b[1;31mThe kernel failed to start due to the missing module 'pypdf'. Consider installing this module.\n",
      "\u001b[1;31mClick <a href='https://aka.ms/kernelFailuresMissingModule'>here</a> for more info.\n",
      "\u001b[1;31mSome of the following files found in the working directory may have prevented the Kernel from starting. Consider renaming them.\n",
      "\u001b[1;31mFile(s): <a href='file:///d%3A/RAG%28GenAI%29/Demo-app/medical-chatbot-using-phi3mini/notebook/code.py?line=1'>~\\code.py</a> might need to be renamed.\n",
      "\u001b[1;31mClick <a href='https://aka.ms/JupyterKernelStartFailureOverrideReservedName'>here</a> for more info."
     ]
    }
   ],
   "source": [
    "pip install pypdf"
   ]
  },
  {
   "cell_type": "code",
   "execution_count": null,
   "metadata": {},
   "outputs": [
    {
     "ename": "",
     "evalue": "",
     "output_type": "error",
     "traceback": [
      "\u001b[1;31mThe kernel failed to start due to the missing module 'pypdf'. Consider installing this module.\n",
      "\u001b[1;31mClick <a href='https://aka.ms/kernelFailuresMissingModule'>here</a> for more info.\n",
      "\u001b[1;31mSome of the following files found in the working directory may have prevented the Kernel from starting. Consider renaming them.\n",
      "\u001b[1;31mFile(s): <a href='file:///d%3A/RAG%28GenAI%29/Demo-app/medical-chatbot-using-phi3mini/notebook/code.py?line=1'>~\\code.py</a> might need to be renamed.\n",
      "\u001b[1;31mClick <a href='https://aka.ms/JupyterKernelStartFailureOverrideReservedName'>here</a> for more info."
     ]
    }
   ],
   "source": [
    "extracted_data = load_pdf(data=r\"data\")"
   ]
  },
  {
   "cell_type": "code",
   "execution_count": null,
   "metadata": {},
   "outputs": [
    {
     "ename": "",
     "evalue": "",
     "output_type": "error",
     "traceback": [
      "\u001b[1;31mThe kernel failed to start due to the missing module 'pypdf'. Consider installing this module.\n",
      "\u001b[1;31mClick <a href='https://aka.ms/kernelFailuresMissingModule'>here</a> for more info.\n",
      "\u001b[1;31mSome of the following files found in the working directory may have prevented the Kernel from starting. Consider renaming them.\n",
      "\u001b[1;31mFile(s): <a href='file:///d%3A/RAG%28GenAI%29/Demo-app/medical-chatbot-using-phi3mini/notebook/code.py?line=1'>~\\code.py</a> might need to be renamed.\n",
      "\u001b[1;31mClick <a href='https://aka.ms/JupyterKernelStartFailureOverrideReservedName'>here</a> for more info."
     ]
    }
   ],
   "source": [
    "len(extracted_data)"
   ]
  },
  {
   "cell_type": "code",
   "execution_count": null,
   "metadata": {},
   "outputs": [
    {
     "ename": "",
     "evalue": "",
     "output_type": "error",
     "traceback": [
      "\u001b[1;31mThe kernel failed to start due to the missing module 'pypdf'. Consider installing this module.\n",
      "\u001b[1;31mClick <a href='https://aka.ms/kernelFailuresMissingModule'>here</a> for more info.\n",
      "\u001b[1;31mSome of the following files found in the working directory may have prevented the Kernel from starting. Consider renaming them.\n",
      "\u001b[1;31mFile(s): <a href='file:///d%3A/RAG%28GenAI%29/Demo-app/medical-chatbot-using-phi3mini/notebook/code.py?line=1'>~\\code.py</a> might need to be renamed.\n",
      "\u001b[1;31mClick <a href='https://aka.ms/JupyterKernelStartFailureOverrideReservedName'>here</a> for more info."
     ]
    }
   ],
   "source": [
    "#DATA TRANSFORMATION\n",
    "#CREATING TEXT CHUNKS\n",
    "def text_split(extracted_data):\n",
    "    text_splitter = RecursiveCharacterTextSplitter(chunk_size = 500, chunk_overlap=20)\n",
    "    text_chunks = text_splitter.split_documents(extracted_data)\n",
    "    return text_chunks"
   ]
  },
  {
   "cell_type": "code",
   "execution_count": null,
   "metadata": {},
   "outputs": [
    {
     "ename": "",
     "evalue": "",
     "output_type": "error",
     "traceback": [
      "\u001b[1;31mThe kernel failed to start due to the missing module 'pypdf'. Consider installing this module.\n",
      "\u001b[1;31mClick <a href='https://aka.ms/kernelFailuresMissingModule'>here</a> for more info.\n",
      "\u001b[1;31mSome of the following files found in the working directory may have prevented the Kernel from starting. Consider renaming them.\n",
      "\u001b[1;31mFile(s): <a href='file:///d%3A/RAG%28GenAI%29/Demo-app/medical-chatbot-using-phi3mini/notebook/code.py?line=1'>~\\code.py</a> might need to be renamed.\n",
      "\u001b[1;31mClick <a href='https://aka.ms/JupyterKernelStartFailureOverrideReservedName'>here</a> for more info."
     ]
    }
   ],
   "source": [
    "docs = text_split(extracted_data=extracted_data)"
   ]
  },
  {
   "cell_type": "code",
   "execution_count": null,
   "metadata": {},
   "outputs": [
    {
     "ename": "",
     "evalue": "",
     "output_type": "error",
     "traceback": [
      "\u001b[1;31mThe kernel failed to start due to the missing module 'pypdf'. Consider installing this module.\n",
      "\u001b[1;31mClick <a href='https://aka.ms/kernelFailuresMissingModule'>here</a> for more info.\n",
      "\u001b[1;31mSome of the following files found in the working directory may have prevented the Kernel from starting. Consider renaming them.\n",
      "\u001b[1;31mFile(s): <a href='file:///d%3A/RAG%28GenAI%29/Demo-app/medical-chatbot-using-phi3mini/notebook/code.py?line=1'>~\\code.py</a> might need to be renamed.\n",
      "\u001b[1;31mClick <a href='https://aka.ms/JupyterKernelStartFailureOverrideReservedName'>here</a> for more info."
     ]
    }
   ],
   "source": [
    "len(docs)"
   ]
  },
  {
   "cell_type": "code",
   "execution_count": null,
   "metadata": {},
   "outputs": [
    {
     "ename": "",
     "evalue": "",
     "output_type": "error",
     "traceback": [
      "\u001b[1;31mThe kernel failed to start due to the missing module 'pypdf'. Consider installing this module.\n",
      "\u001b[1;31mClick <a href='https://aka.ms/kernelFailuresMissingModule'>here</a> for more info.\n",
      "\u001b[1;31mSome of the following files found in the working directory may have prevented the Kernel from starting. Consider renaming them.\n",
      "\u001b[1;31mFile(s): <a href='file:///d%3A/RAG%28GenAI%29/Demo-app/medical-chatbot-using-phi3mini/notebook/code.py?line=1'>~\\code.py</a> might need to be renamed.\n",
      "\u001b[1;31mClick <a href='https://aka.ms/JupyterKernelStartFailureOverrideReservedName'>here</a> for more info."
     ]
    }
   ],
   "source": [
    "#Use embedding model\n",
    "def hugging_face_embed_docs():\n",
    "    embeddings = HuggingFaceEmbeddings(model_name=\"sentence-transformers/all-MiniLM-L6-v2\")\n",
    "    return embeddings\n",
    "\n",
    "def ollama_embed_docs():\n",
    "    embeddings = OllamaEmbeddings(model=\"llama2\")\n",
    "    return embeddings"
   ]
  },
  {
   "cell_type": "code",
   "execution_count": null,
   "metadata": {},
   "outputs": [
    {
     "ename": "",
     "evalue": "",
     "output_type": "error",
     "traceback": [
      "\u001b[1;31mThe kernel failed to start due to the missing module 'pypdf'. Consider installing this module.\n",
      "\u001b[1;31mClick <a href='https://aka.ms/kernelFailuresMissingModule'>here</a> for more info.\n",
      "\u001b[1;31mSome of the following files found in the working directory may have prevented the Kernel from starting. Consider renaming them.\n",
      "\u001b[1;31mFile(s): <a href='file:///d%3A/RAG%28GenAI%29/Demo-app/medical-chatbot-using-phi3mini/notebook/code.py?line=1'>~\\code.py</a> might need to be renamed.\n",
      "\u001b[1;31mClick <a href='https://aka.ms/JupyterKernelStartFailureOverrideReservedName'>here</a> for more info."
     ]
    }
   ],
   "source": [
    "pip install sentence-transformers"
   ]
  },
  {
   "cell_type": "code",
   "execution_count": null,
   "metadata": {},
   "outputs": [
    {
     "ename": "",
     "evalue": "",
     "output_type": "error",
     "traceback": [
      "\u001b[1;31mThe kernel failed to start due to the missing module 'pypdf'. Consider installing this module.\n",
      "\u001b[1;31mClick <a href='https://aka.ms/kernelFailuresMissingModule'>here</a> for more info.\n",
      "\u001b[1;31mSome of the following files found in the working directory may have prevented the Kernel from starting. Consider renaming them.\n",
      "\u001b[1;31mFile(s): <a href='file:///d%3A/RAG%28GenAI%29/Demo-app/medical-chatbot-using-phi3mini/notebook/code.py?line=1'>~\\code.py</a> might need to be renamed.\n",
      "\u001b[1;31mClick <a href='https://aka.ms/JupyterKernelStartFailureOverrideReservedName'>here</a> for more info."
     ]
    }
   ],
   "source": [
    "embeddings = ollama_embed_docs()\n",
    "hugging_embeddings = hugging_face_embed_docs()"
   ]
  },
  {
   "cell_type": "code",
   "execution_count": null,
   "metadata": {},
   "outputs": [
    {
     "ename": "",
     "evalue": "",
     "output_type": "error",
     "traceback": [
      "\u001b[1;31mThe kernel failed to start due to the missing module 'pypdf'. Consider installing this module.\n",
      "\u001b[1;31mClick <a href='https://aka.ms/kernelFailuresMissingModule'>here</a> for more info.\n",
      "\u001b[1;31mSome of the following files found in the working directory may have prevented the Kernel from starting. Consider renaming them.\n",
      "\u001b[1;31mFile(s): <a href='file:///d%3A/RAG%28GenAI%29/Demo-app/medical-chatbot-using-phi3mini/notebook/code.py?line=1'>~\\code.py</a> might need to be renamed.\n",
      "\u001b[1;31mClick <a href='https://aka.ms/JupyterKernelStartFailureOverrideReservedName'>here</a> for more info."
     ]
    }
   ],
   "source": [
    "embeddings"
   ]
  },
  {
   "cell_type": "code",
   "execution_count": null,
   "metadata": {},
   "outputs": [
    {
     "ename": "",
     "evalue": "",
     "output_type": "error",
     "traceback": [
      "\u001b[1;31mThe kernel failed to start due to the missing module 'pypdf'. Consider installing this module.\n",
      "\u001b[1;31mClick <a href='https://aka.ms/kernelFailuresMissingModule'>here</a> for more info.\n",
      "\u001b[1;31mSome of the following files found in the working directory may have prevented the Kernel from starting. Consider renaming them.\n",
      "\u001b[1;31mFile(s): <a href='file:///d%3A/RAG%28GenAI%29/Demo-app/medical-chatbot-using-phi3mini/notebook/code.py?line=1'>~\\code.py</a> might need to be renamed.\n",
      "\u001b[1;31mClick <a href='https://aka.ms/JupyterKernelStartFailureOverrideReservedName'>here</a> for more info."
     ]
    }
   ],
   "source": [
    "hugging_embeddings"
   ]
  },
  {
   "cell_type": "code",
   "execution_count": null,
   "metadata": {},
   "outputs": [
    {
     "ename": "",
     "evalue": "",
     "output_type": "error",
     "traceback": [
      "\u001b[1;31mThe kernel failed to start due to the missing module 'pypdf'. Consider installing this module.\n",
      "\u001b[1;31mClick <a href='https://aka.ms/kernelFailuresMissingModule'>here</a> for more info.\n",
      "\u001b[1;31mSome of the following files found in the working directory may have prevented the Kernel from starting. Consider renaming them.\n",
      "\u001b[1;31mFile(s): <a href='file:///d%3A/RAG%28GenAI%29/Demo-app/medical-chatbot-using-phi3mini/notebook/code.py?line=1'>~\\code.py</a> might need to be renamed.\n",
      "\u001b[1;31mClick <a href='https://aka.ms/JupyterKernelStartFailureOverrideReservedName'>here</a> for more info."
     ]
    }
   ],
   "source": [
    "pip install faiss-cpu\n",
    "\n"
   ]
  },
  {
   "cell_type": "code",
   "execution_count": null,
   "metadata": {},
   "outputs": [
    {
     "ename": "",
     "evalue": "",
     "output_type": "error",
     "traceback": [
      "\u001b[1;31mThe kernel failed to start due to the missing module 'pypdf'. Consider installing this module.\n",
      "\u001b[1;31mClick <a href='https://aka.ms/kernelFailuresMissingModule'>here</a> for more info.\n",
      "\u001b[1;31mSome of the following files found in the working directory may have prevented the Kernel from starting. Consider renaming them.\n",
      "\u001b[1;31mFile(s): <a href='file:///d%3A/RAG%28GenAI%29/Demo-app/medical-chatbot-using-phi3mini/notebook/code.py?line=1'>~\\code.py</a> might need to be renamed.\n",
      "\u001b[1;31mClick <a href='https://aka.ms/JupyterKernelStartFailureOverrideReservedName'>here</a> for more info."
     ]
    }
   ],
   "source": [
    "from langchain.vectorstores import FAISS"
   ]
  },
  {
   "cell_type": "code",
   "execution_count": null,
   "metadata": {},
   "outputs": [
    {
     "ename": "",
     "evalue": "",
     "output_type": "error",
     "traceback": [
      "\u001b[1;31mThe kernel failed to start due to the missing module 'pypdf'. Consider installing this module.\n",
      "\u001b[1;31mClick <a href='https://aka.ms/kernelFailuresMissingModule'>here</a> for more info.\n",
      "\u001b[1;31mSome of the following files found in the working directory may have prevented the Kernel from starting. Consider renaming them.\n",
      "\u001b[1;31mFile(s): <a href='file:///d%3A/RAG%28GenAI%29/Demo-app/medical-chatbot-using-phi3mini/notebook/code.py?line=1'>~\\code.py</a> might need to be renamed.\n",
      "\u001b[1;31mClick <a href='https://aka.ms/JupyterKernelStartFailureOverrideReservedName'>here</a> for more info."
     ]
    }
   ],
   "source": [
    "vector_store = FAISS.from_documents(docs, hugging_embeddings)\n"
   ]
  },
  {
   "cell_type": "code",
   "execution_count": null,
   "metadata": {},
   "outputs": [
    {
     "ename": "",
     "evalue": "",
     "output_type": "error",
     "traceback": [
      "\u001b[1;31mThe kernel failed to start due to the missing module 'pypdf'. Consider installing this module.\n",
      "\u001b[1;31mClick <a href='https://aka.ms/kernelFailuresMissingModule'>here</a> for more info.\n",
      "\u001b[1;31mSome of the following files found in the working directory may have prevented the Kernel from starting. Consider renaming them.\n",
      "\u001b[1;31mFile(s): <a href='file:///d%3A/RAG%28GenAI%29/Demo-app/medical-chatbot-using-phi3mini/notebook/code.py?line=1'>~\\code.py</a> might need to be renamed.\n",
      "\u001b[1;31mClick <a href='https://aka.ms/JupyterKernelStartFailureOverrideReservedName'>here</a> for more info."
     ]
    }
   ],
   "source": [
    "vector_store"
   ]
  },
  {
   "cell_type": "code",
   "execution_count": null,
   "metadata": {},
   "outputs": [
    {
     "ename": "",
     "evalue": "",
     "output_type": "error",
     "traceback": [
      "\u001b[1;31mThe kernel failed to start due to the missing module 'pypdf'. Consider installing this module.\n",
      "\u001b[1;31mClick <a href='https://aka.ms/kernelFailuresMissingModule'>here</a> for more info.\n",
      "\u001b[1;31mSome of the following files found in the working directory may have prevented the Kernel from starting. Consider renaming them.\n",
      "\u001b[1;31mFile(s): <a href='file:///d%3A/RAG%28GenAI%29/Demo-app/medical-chatbot-using-phi3mini/notebook/code.py?line=1'>~\\code.py</a> might need to be renamed.\n",
      "\u001b[1;31mClick <a href='https://aka.ms/JupyterKernelStartFailureOverrideReservedName'>here</a> for more info."
     ]
    }
   ],
   "source": [
    "sample_ans = vector_store.similarity_search(\"What is an allergy\", k=3)\n",
    "sample_ans"
   ]
  },
  {
   "cell_type": "code",
   "execution_count": null,
   "metadata": {},
   "outputs": [
    {
     "ename": "",
     "evalue": "",
     "output_type": "error",
     "traceback": [
      "\u001b[1;31mThe kernel failed to start due to the missing module 'pypdf'. Consider installing this module.\n",
      "\u001b[1;31mClick <a href='https://aka.ms/kernelFailuresMissingModule'>here</a> for more info.\n",
      "\u001b[1;31mSome of the following files found in the working directory may have prevented the Kernel from starting. Consider renaming them.\n",
      "\u001b[1;31mFile(s): <a href='file:///d%3A/RAG%28GenAI%29/Demo-app/medical-chatbot-using-phi3mini/notebook/code.py?line=1'>~\\code.py</a> might need to be renamed.\n",
      "\u001b[1;31mClick <a href='https://aka.ms/JupyterKernelStartFailureOverrideReservedName'>here</a> for more info."
     ]
    }
   ],
   "source": [
    "prompt_template = \"\"\"\n",
    "    Use the following pieces of information to answer the user's question.\n",
    "    If you don't know the answer, just say that you don't know, don't try to make up an answer.\n",
    "    If you know the answer, answer it in a crisp and descriptive way. Use around 5 to 6 sentences to explain.\n",
    "    Context: {context}\n",
    "    Question: {question}\n",
    "    Only return the helpful answer below and nothing else.\n",
    "    At the end of each answer which you know, don't end it with any statement thanking the user for asking you the question. Just end your answer normally without thanking the user. Just anser what is necessary. No thank you to the user is needed\n",
    "    If the user tells \"Thank you\", or anything related to it, then reply in short, thanking the user to ask questions to you and telling him to consult you again in the future in case of any help.\n",
    "    Assistant : \n",
    "    \"\"\""
   ]
  },
  {
   "cell_type": "code",
   "execution_count": null,
   "metadata": {},
   "outputs": [
    {
     "ename": "",
     "evalue": "",
     "output_type": "error",
     "traceback": [
      "\u001b[1;31mThe kernel failed to start due to the missing module 'pypdf'. Consider installing this module.\n",
      "\u001b[1;31mClick <a href='https://aka.ms/kernelFailuresMissingModule'>here</a> for more info.\n",
      "\u001b[1;31mSome of the following files found in the working directory may have prevented the Kernel from starting. Consider renaming them.\n",
      "\u001b[1;31mFile(s): <a href='file:///d%3A/RAG%28GenAI%29/Demo-app/medical-chatbot-using-phi3mini/notebook/code.py?line=1'>~\\code.py</a> might need to be renamed.\n",
      "\u001b[1;31mClick <a href='https://aka.ms/JupyterKernelStartFailureOverrideReservedName'>here</a> for more info."
     ]
    }
   ],
   "source": [
    "PROMPT = PromptTemplate(template = prompt_template, input_variables=[\"context\", \"question\"])\n",
    "chain_type_kwargs = {\"prompt\" : PROMPT}"
   ]
  },
  {
   "cell_type": "code",
   "execution_count": null,
   "metadata": {},
   "outputs": [
    {
     "ename": "",
     "evalue": "",
     "output_type": "error",
     "traceback": [
      "\u001b[1;31mThe kernel failed to start due to the missing module 'pypdf'. Consider installing this module.\n",
      "\u001b[1;31mClick <a href='https://aka.ms/kernelFailuresMissingModule'>here</a> for more info.\n",
      "\u001b[1;31mSome of the following files found in the working directory may have prevented the Kernel from starting. Consider renaming them.\n",
      "\u001b[1;31mFile(s): <a href='file:///d%3A/RAG%28GenAI%29/Demo-app/medical-chatbot-using-phi3mini/notebook/code.py?line=1'>~\\code.py</a> might need to be renamed.\n",
      "\u001b[1;31mClick <a href='https://aka.ms/JupyterKernelStartFailureOverrideReservedName'>here</a> for more info."
     ]
    }
   ],
   "source": [
    "# llm = CTransformers(model = r\"C:\\Users\\Arjo\\.ollama\\models\\blobs\\sha256-8934d96d3f08982e95922b2b7a2c626a1fe873d7c3b06e8e56d7bc0a1fef9246\", model_type='llama2', config={'max_new_tokens' : 512, 'temperature' : 0.8})"
   ]
  },
  {
   "cell_type": "code",
   "execution_count": null,
   "metadata": {},
   "outputs": [
    {
     "ename": "",
     "evalue": "",
     "output_type": "error",
     "traceback": [
      "\u001b[1;31mThe kernel failed to start due to the missing module 'pypdf'. Consider installing this module.\n",
      "\u001b[1;31mClick <a href='https://aka.ms/kernelFailuresMissingModule'>here</a> for more info.\n",
      "\u001b[1;31mSome of the following files found in the working directory may have prevented the Kernel from starting. Consider renaming them.\n",
      "\u001b[1;31mFile(s): <a href='file:///d%3A/RAG%28GenAI%29/Demo-app/medical-chatbot-using-phi3mini/notebook/code.py?line=1'>~\\code.py</a> might need to be renamed.\n",
      "\u001b[1;31mClick <a href='https://aka.ms/JupyterKernelStartFailureOverrideReservedName'>here</a> for more info."
     ]
    }
   ],
   "source": [
    "llm = Ollama(model=\"phi3:mini\", temperature=0.8, num_predict=1024)"
   ]
  },
  {
   "cell_type": "code",
   "execution_count": null,
   "metadata": {},
   "outputs": [
    {
     "ename": "",
     "evalue": "",
     "output_type": "error",
     "traceback": [
      "\u001b[1;31mThe kernel failed to start due to the missing module 'pypdf'. Consider installing this module.\n",
      "\u001b[1;31mClick <a href='https://aka.ms/kernelFailuresMissingModule'>here</a> for more info.\n",
      "\u001b[1;31mSome of the following files found in the working directory may have prevented the Kernel from starting. Consider renaming them.\n",
      "\u001b[1;31mFile(s): <a href='file:///d%3A/RAG%28GenAI%29/Demo-app/medical-chatbot-using-phi3mini/notebook/code.py?line=1'>~\\code.py</a> might need to be renamed.\n",
      "\u001b[1;31mClick <a href='https://aka.ms/JupyterKernelStartFailureOverrideReservedName'>here</a> for more info."
     ]
    }
   ],
   "source": [
    "qa = RetrievalQA.from_chain_type(\n",
    "    llm = llm,\n",
    "    chain_type = 'stuff',\n",
    "    chain_type_kwargs = chain_type_kwargs,\n",
    "    return_source_documents = True,\n",
    "    retriever = vector_store.as_retriever(search_kwargs = {'k' : 2})\n",
    ")"
   ]
  },
  {
   "cell_type": "markdown",
   "metadata": {},
   "source": []
  },
  {
   "cell_type": "code",
   "execution_count": null,
   "metadata": {},
   "outputs": [
    {
     "ename": "",
     "evalue": "",
     "output_type": "error",
     "traceback": [
      "\u001b[1;31mThe kernel failed to start due to the missing module 'pypdf'. Consider installing this module.\n",
      "\u001b[1;31mClick <a href='https://aka.ms/kernelFailuresMissingModule'>here</a> for more info.\n",
      "\u001b[1;31mSome of the following files found in the working directory may have prevented the Kernel from starting. Consider renaming them.\n",
      "\u001b[1;31mFile(s): <a href='file:///d%3A/RAG%28GenAI%29/Demo-app/medical-chatbot-using-phi3mini/notebook/code.py?line=1'>~\\code.py</a> might need to be renamed.\n",
      "\u001b[1;31mClick <a href='https://aka.ms/JupyterKernelStartFailureOverrideReservedName'>here</a> for more info."
     ]
    }
   ],
   "source": [
    "while True:\n",
    "    user_input = input(f\"Input Prompt : \")\n",
    "    result = qa({'query' : user_input})\n",
    "    print(\"Response : \", result['result'])"
   ]
  },
  {
   "cell_type": "code",
   "execution_count": null,
   "metadata": {},
   "outputs": [
    {
     "ename": "",
     "evalue": "",
     "output_type": "error",
     "traceback": [
      "\u001b[1;31mThe kernel failed to start due to the missing module 'pypdf'. Consider installing this module.\n",
      "\u001b[1;31mClick <a href='https://aka.ms/kernelFailuresMissingModule'>here</a> for more info.\n",
      "\u001b[1;31mSome of the following files found in the working directory may have prevented the Kernel from starting. Consider renaming them.\n",
      "\u001b[1;31mFile(s): <a href='file:///d%3A/RAG%28GenAI%29/Demo-app/medical-chatbot-using-phi3mini/notebook/code.py?line=1'>~\\code.py</a> might need to be renamed.\n",
      "\u001b[1;31mClick <a href='https://aka.ms/JupyterKernelStartFailureOverrideReservedName'>here</a> for more info."
     ]
    }
   ],
   "source": []
  }
 ],
 "metadata": {
  "kernelspec": {
   "display_name": "Python 3",
   "language": "python",
   "name": "python3"
  },
  "language_info": {
   "codemirror_mode": {
    "name": "ipython",
    "version": 3
   },
   "file_extension": ".py",
   "mimetype": "text/x-python",
   "name": "python",
   "nbconvert_exporter": "python",
   "pygments_lexer": "ipython3",
   "version": "3.12.4"
  }
 },
 "nbformat": 4,
 "nbformat_minor": 2
}
